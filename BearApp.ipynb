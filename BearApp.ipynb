{
  "nbformat": 4,
  "nbformat_minor": 0,
  "metadata": {
    "colab": {
      "name": "BearApp.ipynb",
      "provenance": []
    },
    "kernelspec": {
      "name": "python3",
      "display_name": "Python 3"
    },
    "language_info": {
      "name": "python"
    },
    "widgets": {
      "application/vnd.jupyter.widget-state+json": {
        "ed215de57143484b8a8968fe745be095": {
          "model_module": "@jupyter-widgets/controls",
          "model_name": "ButtonModel",
          "model_module_version": "1.5.0",
          "state": {
            "_dom_classes": [],
            "_model_module": "@jupyter-widgets/controls",
            "_model_module_version": "1.5.0",
            "_model_name": "ButtonModel",
            "_view_count": null,
            "_view_module": "@jupyter-widgets/controls",
            "_view_module_version": "1.5.0",
            "_view_name": "ButtonView",
            "button_style": "",
            "description": "Classify",
            "disabled": false,
            "icon": "",
            "layout": "IPY_MODEL_f6fd2072c5594252863972eb0a9f79cc",
            "style": "IPY_MODEL_66f4e65776994772b1624960ce32990c",
            "tooltip": ""
          }
        },
        "f6fd2072c5594252863972eb0a9f79cc": {
          "model_module": "@jupyter-widgets/base",
          "model_name": "LayoutModel",
          "model_module_version": "1.2.0",
          "state": {
            "_model_module": "@jupyter-widgets/base",
            "_model_module_version": "1.2.0",
            "_model_name": "LayoutModel",
            "_view_count": null,
            "_view_module": "@jupyter-widgets/base",
            "_view_module_version": "1.2.0",
            "_view_name": "LayoutView",
            "align_content": null,
            "align_items": null,
            "align_self": null,
            "border": null,
            "bottom": null,
            "display": null,
            "flex": null,
            "flex_flow": null,
            "grid_area": null,
            "grid_auto_columns": null,
            "grid_auto_flow": null,
            "grid_auto_rows": null,
            "grid_column": null,
            "grid_gap": null,
            "grid_row": null,
            "grid_template_areas": null,
            "grid_template_columns": null,
            "grid_template_rows": null,
            "height": null,
            "justify_content": null,
            "justify_items": null,
            "left": null,
            "margin": null,
            "max_height": null,
            "max_width": null,
            "min_height": null,
            "min_width": null,
            "object_fit": null,
            "object_position": null,
            "order": null,
            "overflow": null,
            "overflow_x": null,
            "overflow_y": null,
            "padding": null,
            "right": null,
            "top": null,
            "visibility": null,
            "width": null
          }
        },
        "66f4e65776994772b1624960ce32990c": {
          "model_module": "@jupyter-widgets/controls",
          "model_name": "ButtonStyleModel",
          "model_module_version": "1.5.0",
          "state": {
            "_model_module": "@jupyter-widgets/controls",
            "_model_module_version": "1.5.0",
            "_model_name": "ButtonStyleModel",
            "_view_count": null,
            "_view_module": "@jupyter-widgets/base",
            "_view_module_version": "1.2.0",
            "_view_name": "StyleView",
            "button_color": null,
            "font_weight": ""
          }
        },
        "12b7243e20d5476e823e9ba6f67875ad": {
          "model_module": "@jupyter-widgets/controls",
          "model_name": "FileUploadModel",
          "model_module_version": "1.5.0",
          "state": {
            "_counter": 3,
            "_dom_classes": [],
            "_model_module": "@jupyter-widgets/controls",
            "_model_module_version": "1.5.0",
            "_model_name": "FileUploadModel",
            "_view_count": null,
            "_view_module": "@jupyter-widgets/controls",
            "_view_module_version": "1.5.0",
            "_view_name": "FileUploadView",
            "accept": "",
            "button_style": "",
            "data": [
              null
            ],
            "description": "Upload",
            "description_tooltip": null,
            "disabled": false,
            "error": "",
            "icon": "upload",
            "layout": "IPY_MODEL_e87bd8c90aa448ba90d10c495ae0dd56",
            "metadata": [
              {
                "name": "blackbear.jpg",
                "type": "image/jpeg",
                "size": 8256,
                "lastModified": 1649786308455
              }
            ],
            "multiple": false,
            "style": "IPY_MODEL_fc6fc1b6ed3c47289a32601896ecad41"
          }
        },
        "e87bd8c90aa448ba90d10c495ae0dd56": {
          "model_module": "@jupyter-widgets/base",
          "model_name": "LayoutModel",
          "model_module_version": "1.2.0",
          "state": {
            "_model_module": "@jupyter-widgets/base",
            "_model_module_version": "1.2.0",
            "_model_name": "LayoutModel",
            "_view_count": null,
            "_view_module": "@jupyter-widgets/base",
            "_view_module_version": "1.2.0",
            "_view_name": "LayoutView",
            "align_content": null,
            "align_items": null,
            "align_self": null,
            "border": null,
            "bottom": null,
            "display": null,
            "flex": null,
            "flex_flow": null,
            "grid_area": null,
            "grid_auto_columns": null,
            "grid_auto_flow": null,
            "grid_auto_rows": null,
            "grid_column": null,
            "grid_gap": null,
            "grid_row": null,
            "grid_template_areas": null,
            "grid_template_columns": null,
            "grid_template_rows": null,
            "height": null,
            "justify_content": null,
            "justify_items": null,
            "left": null,
            "margin": null,
            "max_height": null,
            "max_width": null,
            "min_height": null,
            "min_width": null,
            "object_fit": null,
            "object_position": null,
            "order": null,
            "overflow": null,
            "overflow_x": null,
            "overflow_y": null,
            "padding": null,
            "right": null,
            "top": null,
            "visibility": null,
            "width": null
          }
        },
        "fc6fc1b6ed3c47289a32601896ecad41": {
          "model_module": "@jupyter-widgets/controls",
          "model_name": "ButtonStyleModel",
          "model_module_version": "1.5.0",
          "state": {
            "_model_module": "@jupyter-widgets/controls",
            "_model_module_version": "1.5.0",
            "_model_name": "ButtonStyleModel",
            "_view_count": null,
            "_view_module": "@jupyter-widgets/base",
            "_view_module_version": "1.2.0",
            "_view_name": "StyleView",
            "button_color": null,
            "font_weight": ""
          }
        },
        "5407a2085ac348a1b3124136ae415206": {
          "model_module": "@jupyter-widgets/controls",
          "model_name": "VBoxModel",
          "model_module_version": "1.5.0",
          "state": {
            "_dom_classes": [],
            "_model_module": "@jupyter-widgets/controls",
            "_model_module_version": "1.5.0",
            "_model_name": "VBoxModel",
            "_view_count": null,
            "_view_module": "@jupyter-widgets/controls",
            "_view_module_version": "1.5.0",
            "_view_name": "VBoxView",
            "box_style": "",
            "children": [
              "IPY_MODEL_d227d580e3e34341b9d7a191dc44d6e3",
              "IPY_MODEL_12b7243e20d5476e823e9ba6f67875ad",
              "IPY_MODEL_ed215de57143484b8a8968fe745be095",
              "IPY_MODEL_981a42d35fc04b55921ac30844109856",
              "IPY_MODEL_6a51c93ad6524a228168048934a12ada"
            ],
            "layout": "IPY_MODEL_cdce195b90334249bc97b3f683d5272d"
          }
        },
        "d227d580e3e34341b9d7a191dc44d6e3": {
          "model_module": "@jupyter-widgets/controls",
          "model_name": "LabelModel",
          "model_module_version": "1.5.0",
          "state": {
            "_dom_classes": [],
            "_model_module": "@jupyter-widgets/controls",
            "_model_module_version": "1.5.0",
            "_model_name": "LabelModel",
            "_view_count": null,
            "_view_module": "@jupyter-widgets/controls",
            "_view_module_version": "1.5.0",
            "_view_name": "LabelView",
            "description": "",
            "description_tooltip": null,
            "layout": "IPY_MODEL_b24d8d131fcd4184afc6c85dfa760880",
            "placeholder": "​",
            "style": "IPY_MODEL_e0c21f6734f042029021e2fa14dc91d7",
            "value": "Select your bear!"
          }
        },
        "981a42d35fc04b55921ac30844109856": {
          "model_module": "@jupyter-widgets/output",
          "model_name": "OutputModel",
          "model_module_version": "1.0.0",
          "state": {
            "_dom_classes": [],
            "_model_module": "@jupyter-widgets/output",
            "_model_module_version": "1.0.0",
            "_model_name": "OutputModel",
            "_view_count": null,
            "_view_module": "@jupyter-widgets/output",
            "_view_module_version": "1.0.0",
            "_view_name": "OutputView",
            "layout": "IPY_MODEL_c64d956c46d544ec933c2cfd748e5d14",
            "msg_id": "",
            "outputs": [
              {
                "output_type": "display_data",
                "data": {
                  "text/plain": "<PIL.Image.Image image mode=RGB size=102x128 at 0x7F662ABFC990>",
                  "image/png": "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\n"
                },
                "metadata": {}
              }
            ]
          }
        },
        "6a51c93ad6524a228168048934a12ada": {
          "model_module": "@jupyter-widgets/controls",
          "model_name": "LabelModel",
          "model_module_version": "1.5.0",
          "state": {
            "_dom_classes": [],
            "_model_module": "@jupyter-widgets/controls",
            "_model_module_version": "1.5.0",
            "_model_name": "LabelModel",
            "_view_count": null,
            "_view_module": "@jupyter-widgets/controls",
            "_view_module_version": "1.5.0",
            "_view_name": "LabelView",
            "description": "",
            "description_tooltip": null,
            "layout": "IPY_MODEL_0dbcfe8508d14b7a851485f5d8b1fa03",
            "placeholder": "​",
            "style": "IPY_MODEL_c36b4ee90bcc40a5a8bfddadde58f6a8",
            "value": "Prediction: black; Probability: 0.9982"
          }
        },
        "cdce195b90334249bc97b3f683d5272d": {
          "model_module": "@jupyter-widgets/base",
          "model_name": "LayoutModel",
          "model_module_version": "1.2.0",
          "state": {
            "_model_module": "@jupyter-widgets/base",
            "_model_module_version": "1.2.0",
            "_model_name": "LayoutModel",
            "_view_count": null,
            "_view_module": "@jupyter-widgets/base",
            "_view_module_version": "1.2.0",
            "_view_name": "LayoutView",
            "align_content": null,
            "align_items": null,
            "align_self": null,
            "border": null,
            "bottom": null,
            "display": null,
            "flex": null,
            "flex_flow": null,
            "grid_area": null,
            "grid_auto_columns": null,
            "grid_auto_flow": null,
            "grid_auto_rows": null,
            "grid_column": null,
            "grid_gap": null,
            "grid_row": null,
            "grid_template_areas": null,
            "grid_template_columns": null,
            "grid_template_rows": null,
            "height": null,
            "justify_content": null,
            "justify_items": null,
            "left": null,
            "margin": null,
            "max_height": null,
            "max_width": null,
            "min_height": null,
            "min_width": null,
            "object_fit": null,
            "object_position": null,
            "order": null,
            "overflow": null,
            "overflow_x": null,
            "overflow_y": null,
            "padding": null,
            "right": null,
            "top": null,
            "visibility": null,
            "width": null
          }
        },
        "b24d8d131fcd4184afc6c85dfa760880": {
          "model_module": "@jupyter-widgets/base",
          "model_name": "LayoutModel",
          "model_module_version": "1.2.0",
          "state": {
            "_model_module": "@jupyter-widgets/base",
            "_model_module_version": "1.2.0",
            "_model_name": "LayoutModel",
            "_view_count": null,
            "_view_module": "@jupyter-widgets/base",
            "_view_module_version": "1.2.0",
            "_view_name": "LayoutView",
            "align_content": null,
            "align_items": null,
            "align_self": null,
            "border": null,
            "bottom": null,
            "display": null,
            "flex": null,
            "flex_flow": null,
            "grid_area": null,
            "grid_auto_columns": null,
            "grid_auto_flow": null,
            "grid_auto_rows": null,
            "grid_column": null,
            "grid_gap": null,
            "grid_row": null,
            "grid_template_areas": null,
            "grid_template_columns": null,
            "grid_template_rows": null,
            "height": null,
            "justify_content": null,
            "justify_items": null,
            "left": null,
            "margin": null,
            "max_height": null,
            "max_width": null,
            "min_height": null,
            "min_width": null,
            "object_fit": null,
            "object_position": null,
            "order": null,
            "overflow": null,
            "overflow_x": null,
            "overflow_y": null,
            "padding": null,
            "right": null,
            "top": null,
            "visibility": null,
            "width": null
          }
        },
        "e0c21f6734f042029021e2fa14dc91d7": {
          "model_module": "@jupyter-widgets/controls",
          "model_name": "DescriptionStyleModel",
          "model_module_version": "1.5.0",
          "state": {
            "_model_module": "@jupyter-widgets/controls",
            "_model_module_version": "1.5.0",
            "_model_name": "DescriptionStyleModel",
            "_view_count": null,
            "_view_module": "@jupyter-widgets/base",
            "_view_module_version": "1.2.0",
            "_view_name": "StyleView",
            "description_width": ""
          }
        },
        "0dbcfe8508d14b7a851485f5d8b1fa03": {
          "model_module": "@jupyter-widgets/base",
          "model_name": "LayoutModel",
          "model_module_version": "1.2.0",
          "state": {
            "_model_module": "@jupyter-widgets/base",
            "_model_module_version": "1.2.0",
            "_model_name": "LayoutModel",
            "_view_count": null,
            "_view_module": "@jupyter-widgets/base",
            "_view_module_version": "1.2.0",
            "_view_name": "LayoutView",
            "align_content": null,
            "align_items": null,
            "align_self": null,
            "border": null,
            "bottom": null,
            "display": null,
            "flex": null,
            "flex_flow": null,
            "grid_area": null,
            "grid_auto_columns": null,
            "grid_auto_flow": null,
            "grid_auto_rows": null,
            "grid_column": null,
            "grid_gap": null,
            "grid_row": null,
            "grid_template_areas": null,
            "grid_template_columns": null,
            "grid_template_rows": null,
            "height": null,
            "justify_content": null,
            "justify_items": null,
            "left": null,
            "margin": null,
            "max_height": null,
            "max_width": null,
            "min_height": null,
            "min_width": null,
            "object_fit": null,
            "object_position": null,
            "order": null,
            "overflow": null,
            "overflow_x": null,
            "overflow_y": null,
            "padding": null,
            "right": null,
            "top": null,
            "visibility": null,
            "width": null
          }
        },
        "c36b4ee90bcc40a5a8bfddadde58f6a8": {
          "model_module": "@jupyter-widgets/controls",
          "model_name": "DescriptionStyleModel",
          "model_module_version": "1.5.0",
          "state": {
            "_model_module": "@jupyter-widgets/controls",
            "_model_module_version": "1.5.0",
            "_model_name": "DescriptionStyleModel",
            "_view_count": null,
            "_view_module": "@jupyter-widgets/base",
            "_view_module_version": "1.2.0",
            "_view_name": "StyleView",
            "description_width": ""
          }
        },
        "c64d956c46d544ec933c2cfd748e5d14": {
          "model_module": "@jupyter-widgets/base",
          "model_name": "LayoutModel",
          "model_module_version": "1.2.0",
          "state": {
            "_model_module": "@jupyter-widgets/base",
            "_model_module_version": "1.2.0",
            "_model_name": "LayoutModel",
            "_view_count": null,
            "_view_module": "@jupyter-widgets/base",
            "_view_module_version": "1.2.0",
            "_view_name": "LayoutView",
            "align_content": null,
            "align_items": null,
            "align_self": null,
            "border": null,
            "bottom": null,
            "display": null,
            "flex": null,
            "flex_flow": null,
            "grid_area": null,
            "grid_auto_columns": null,
            "grid_auto_flow": null,
            "grid_auto_rows": null,
            "grid_column": null,
            "grid_gap": null,
            "grid_row": null,
            "grid_template_areas": null,
            "grid_template_columns": null,
            "grid_template_rows": null,
            "height": null,
            "justify_content": null,
            "justify_items": null,
            "left": null,
            "margin": null,
            "max_height": null,
            "max_width": null,
            "min_height": null,
            "min_width": null,
            "object_fit": null,
            "object_position": null,
            "order": null,
            "overflow": null,
            "overflow_x": null,
            "overflow_y": null,
            "padding": null,
            "right": null,
            "top": null,
            "visibility": null,
            "width": null
          }
        }
      }
    }
  },
  "cells": [
    {
      "cell_type": "code",
      "source": [
        "!pip install fastai --upgrade\n",
        "!pip install  fastbook"
      ],
      "metadata": {
        "colab": {
          "base_uri": "https://localhost:8080/",
          "height": 1000
        },
        "id": "aR-kZfDVNKxZ",
        "outputId": "ac7edaad-cf76-45c9-f6a7-bbd0d031bbd7"
      },
      "execution_count": 1,
      "outputs": [
        {
          "output_type": "stream",
          "name": "stdout",
          "text": [
            "Requirement already satisfied: fastai in /usr/local/lib/python3.7/dist-packages (1.0.61)\n",
            "Collecting fastai\n",
            "  Downloading fastai-2.5.6-py3-none-any.whl (188 kB)\n",
            "\u001b[K     |████████████████████████████████| 188 kB 5.1 MB/s \n",
            "\u001b[?25hRequirement already satisfied: matplotlib in /usr/local/lib/python3.7/dist-packages (from fastai) (3.2.2)\n",
            "Requirement already satisfied: scipy in /usr/local/lib/python3.7/dist-packages (from fastai) (1.4.1)\n",
            "Requirement already satisfied: pillow>6.0.0 in /usr/local/lib/python3.7/dist-packages (from fastai) (7.1.2)\n",
            "Requirement already satisfied: pyyaml in /usr/local/lib/python3.7/dist-packages (from fastai) (3.13)\n",
            "Requirement already satisfied: pip in /usr/local/lib/python3.7/dist-packages (from fastai) (21.1.3)\n",
            "Collecting fastcore<1.5,>=1.3.27\n",
            "  Downloading fastcore-1.4.2-py3-none-any.whl (60 kB)\n",
            "\u001b[K     |████████████████████████████████| 60 kB 6.3 MB/s \n",
            "\u001b[?25hRequirement already satisfied: spacy<4 in /usr/local/lib/python3.7/dist-packages (from fastai) (2.2.4)\n",
            "Requirement already satisfied: packaging in /usr/local/lib/python3.7/dist-packages (from fastai) (21.3)\n",
            "Requirement already satisfied: requests in /usr/local/lib/python3.7/dist-packages (from fastai) (2.23.0)\n",
            "Requirement already satisfied: scikit-learn in /usr/local/lib/python3.7/dist-packages (from fastai) (1.0.2)\n",
            "Requirement already satisfied: pandas in /usr/local/lib/python3.7/dist-packages (from fastai) (1.3.5)\n",
            "Requirement already satisfied: fastprogress>=0.2.4 in /usr/local/lib/python3.7/dist-packages (from fastai) (1.0.2)\n",
            "Requirement already satisfied: torchvision>=0.8.2 in /usr/local/lib/python3.7/dist-packages (from fastai) (0.11.1+cu111)\n",
            "Requirement already satisfied: torch<1.12,>=1.7.0 in /usr/local/lib/python3.7/dist-packages (from fastai) (1.10.0+cu111)\n",
            "Collecting fastdownload<2,>=0.0.5\n",
            "  Downloading fastdownload-0.0.5-py3-none-any.whl (13 kB)\n",
            "Requirement already satisfied: murmurhash<1.1.0,>=0.28.0 in /usr/local/lib/python3.7/dist-packages (from spacy<4->fastai) (1.0.6)\n",
            "Requirement already satisfied: tqdm<5.0.0,>=4.38.0 in /usr/local/lib/python3.7/dist-packages (from spacy<4->fastai) (4.64.0)\n",
            "Requirement already satisfied: wasabi<1.1.0,>=0.4.0 in /usr/local/lib/python3.7/dist-packages (from spacy<4->fastai) (0.9.1)\n",
            "Requirement already satisfied: plac<1.2.0,>=0.9.6 in /usr/local/lib/python3.7/dist-packages (from spacy<4->fastai) (1.1.3)\n",
            "Requirement already satisfied: srsly<1.1.0,>=1.0.2 in /usr/local/lib/python3.7/dist-packages (from spacy<4->fastai) (1.0.5)\n",
            "Requirement already satisfied: cymem<2.1.0,>=2.0.2 in /usr/local/lib/python3.7/dist-packages (from spacy<4->fastai) (2.0.6)\n",
            "Requirement already satisfied: thinc==7.4.0 in /usr/local/lib/python3.7/dist-packages (from spacy<4->fastai) (7.4.0)\n",
            "Requirement already satisfied: numpy>=1.15.0 in /usr/local/lib/python3.7/dist-packages (from spacy<4->fastai) (1.21.5)\n",
            "Requirement already satisfied: catalogue<1.1.0,>=0.0.7 in /usr/local/lib/python3.7/dist-packages (from spacy<4->fastai) (1.0.0)\n",
            "Requirement already satisfied: setuptools in /usr/local/lib/python3.7/dist-packages (from spacy<4->fastai) (57.4.0)\n",
            "Requirement already satisfied: blis<0.5.0,>=0.4.0 in /usr/local/lib/python3.7/dist-packages (from spacy<4->fastai) (0.4.1)\n",
            "Requirement already satisfied: preshed<3.1.0,>=3.0.2 in /usr/local/lib/python3.7/dist-packages (from spacy<4->fastai) (3.0.6)\n",
            "Requirement already satisfied: importlib-metadata>=0.20 in /usr/local/lib/python3.7/dist-packages (from catalogue<1.1.0,>=0.0.7->spacy<4->fastai) (4.11.3)\n",
            "Requirement already satisfied: typing-extensions>=3.6.4 in /usr/local/lib/python3.7/dist-packages (from importlib-metadata>=0.20->catalogue<1.1.0,>=0.0.7->spacy<4->fastai) (4.1.1)\n",
            "Requirement already satisfied: zipp>=0.5 in /usr/local/lib/python3.7/dist-packages (from importlib-metadata>=0.20->catalogue<1.1.0,>=0.0.7->spacy<4->fastai) (3.8.0)\n",
            "Requirement already satisfied: urllib3!=1.25.0,!=1.25.1,<1.26,>=1.21.1 in /usr/local/lib/python3.7/dist-packages (from requests->fastai) (1.24.3)\n",
            "Requirement already satisfied: certifi>=2017.4.17 in /usr/local/lib/python3.7/dist-packages (from requests->fastai) (2021.10.8)\n",
            "Requirement already satisfied: idna<3,>=2.5 in /usr/local/lib/python3.7/dist-packages (from requests->fastai) (2.10)\n",
            "Requirement already satisfied: chardet<4,>=3.0.2 in /usr/local/lib/python3.7/dist-packages (from requests->fastai) (3.0.4)\n",
            "Requirement already satisfied: cycler>=0.10 in /usr/local/lib/python3.7/dist-packages (from matplotlib->fastai) (0.11.0)\n",
            "Requirement already satisfied: kiwisolver>=1.0.1 in /usr/local/lib/python3.7/dist-packages (from matplotlib->fastai) (1.4.2)\n",
            "Requirement already satisfied: pyparsing!=2.0.4,!=2.1.2,!=2.1.6,>=2.0.1 in /usr/local/lib/python3.7/dist-packages (from matplotlib->fastai) (3.0.8)\n",
            "Requirement already satisfied: python-dateutil>=2.1 in /usr/local/lib/python3.7/dist-packages (from matplotlib->fastai) (2.8.2)\n",
            "Requirement already satisfied: six>=1.5 in /usr/local/lib/python3.7/dist-packages (from python-dateutil>=2.1->matplotlib->fastai) (1.15.0)\n",
            "Requirement already satisfied: pytz>=2017.3 in /usr/local/lib/python3.7/dist-packages (from pandas->fastai) (2018.9)\n",
            "Requirement already satisfied: threadpoolctl>=2.0.0 in /usr/local/lib/python3.7/dist-packages (from scikit-learn->fastai) (3.1.0)\n",
            "Requirement already satisfied: joblib>=0.11 in /usr/local/lib/python3.7/dist-packages (from scikit-learn->fastai) (1.1.0)\n",
            "Installing collected packages: fastcore, fastdownload, fastai\n",
            "  Attempting uninstall: fastai\n",
            "    Found existing installation: fastai 1.0.61\n",
            "    Uninstalling fastai-1.0.61:\n",
            "      Successfully uninstalled fastai-1.0.61\n",
            "Successfully installed fastai-2.5.6 fastcore-1.4.2 fastdownload-0.0.5\n",
            "Collecting fastbook\n",
            "  Downloading fastbook-0.0.18-py3-none-any.whl (720 kB)\n",
            "\u001b[K     |████████████████████████████████| 720 kB 5.0 MB/s \n",
            "\u001b[?25hRequirement already satisfied: requests in /usr/local/lib/python3.7/dist-packages (from fastbook) (2.23.0)\n",
            "Requirement already satisfied: pip in /usr/local/lib/python3.7/dist-packages (from fastbook) (21.1.3)\n",
            "Requirement already satisfied: fastai>=2.5 in /usr/local/lib/python3.7/dist-packages (from fastbook) (2.5.6)\n",
            "Requirement already satisfied: pandas in /usr/local/lib/python3.7/dist-packages (from fastbook) (1.3.5)\n",
            "Collecting nbdev>=0.2.38\n",
            "  Downloading nbdev-1.2.5-py3-none-any.whl (49 kB)\n",
            "\u001b[K     |████████████████████████████████| 49 kB 5.0 MB/s \n",
            "\u001b[?25hCollecting sentencepiece\n",
            "  Downloading sentencepiece-0.1.96-cp37-cp37m-manylinux_2_17_x86_64.manylinux2014_x86_64.whl (1.2 MB)\n",
            "\u001b[K     |████████████████████████████████| 1.2 MB 39.5 MB/s \n",
            "\u001b[?25hRequirement already satisfied: packaging in /usr/local/lib/python3.7/dist-packages (from fastbook) (21.3)\n",
            "Requirement already satisfied: ipywidgets in /usr/local/lib/python3.7/dist-packages (from fastbook) (7.7.0)\n",
            "Requirement already satisfied: fastdownload<2,>=0.0.5 in /usr/local/lib/python3.7/dist-packages (from fastai>=2.5->fastbook) (0.0.5)\n",
            "Requirement already satisfied: matplotlib in /usr/local/lib/python3.7/dist-packages (from fastai>=2.5->fastbook) (3.2.2)\n",
            "Requirement already satisfied: torchvision>=0.8.2 in /usr/local/lib/python3.7/dist-packages (from fastai>=2.5->fastbook) (0.11.1+cu111)\n",
            "Requirement already satisfied: fastprogress>=0.2.4 in /usr/local/lib/python3.7/dist-packages (from fastai>=2.5->fastbook) (1.0.2)\n",
            "Requirement already satisfied: torch<1.12,>=1.7.0 in /usr/local/lib/python3.7/dist-packages (from fastai>=2.5->fastbook) (1.10.0+cu111)\n",
            "Requirement already satisfied: scipy in /usr/local/lib/python3.7/dist-packages (from fastai>=2.5->fastbook) (1.4.1)\n",
            "Requirement already satisfied: spacy<4 in /usr/local/lib/python3.7/dist-packages (from fastai>=2.5->fastbook) (2.2.4)\n",
            "Requirement already satisfied: pyyaml in /usr/local/lib/python3.7/dist-packages (from fastai>=2.5->fastbook) (3.13)\n",
            "Requirement already satisfied: scikit-learn in /usr/local/lib/python3.7/dist-packages (from fastai>=2.5->fastbook) (1.0.2)\n",
            "Requirement already satisfied: pillow>6.0.0 in /usr/local/lib/python3.7/dist-packages (from fastai>=2.5->fastbook) (7.1.2)\n",
            "Requirement already satisfied: fastcore<1.5,>=1.3.27 in /usr/local/lib/python3.7/dist-packages (from fastai>=2.5->fastbook) (1.4.2)\n",
            "Requirement already satisfied: jupyter in /usr/local/lib/python3.7/dist-packages (from nbdev>=0.2.38->fastbook) (1.0.0)\n",
            "Collecting ghapi\n",
            "  Downloading ghapi-0.1.20-py3-none-any.whl (53 kB)\n",
            "\u001b[K     |████████████████████████████████| 53 kB 2.0 MB/s \n",
            "\u001b[?25hRequirement already satisfied: jupyter-client<8 in /usr/local/lib/python3.7/dist-packages (from nbdev>=0.2.38->fastbook) (5.3.5)\n",
            "Requirement already satisfied: Jinja2<3.1.0 in /usr/local/lib/python3.7/dist-packages (from nbdev>=0.2.38->fastbook) (2.11.3)\n",
            "Collecting nbconvert>=6.1\n",
            "  Downloading nbconvert-6.5.0-py3-none-any.whl (561 kB)\n",
            "\u001b[K     |████████████████████████████████| 561 kB 68.9 MB/s \n",
            "\u001b[?25hCollecting fastrelease\n",
            "  Downloading fastrelease-0.1.15-py3-none-any.whl (13 kB)\n",
            "Requirement already satisfied: ipykernel in /usr/local/lib/python3.7/dist-packages (from nbdev>=0.2.38->fastbook) (4.10.1)\n",
            "Requirement already satisfied: nbformat>=4.4.0 in /usr/local/lib/python3.7/dist-packages (from nbdev>=0.2.38->fastbook) (5.3.0)\n",
            "Requirement already satisfied: MarkupSafe>=0.23 in /usr/local/lib/python3.7/dist-packages (from Jinja2<3.1.0->nbdev>=0.2.38->fastbook) (2.0.1)\n",
            "Requirement already satisfied: python-dateutil>=2.1 in /usr/local/lib/python3.7/dist-packages (from jupyter-client<8->nbdev>=0.2.38->fastbook) (2.8.2)\n",
            "Requirement already satisfied: tornado>=4.1 in /usr/local/lib/python3.7/dist-packages (from jupyter-client<8->nbdev>=0.2.38->fastbook) (5.1.1)\n",
            "Requirement already satisfied: traitlets in /usr/local/lib/python3.7/dist-packages (from jupyter-client<8->nbdev>=0.2.38->fastbook) (5.1.1)\n",
            "Requirement already satisfied: jupyter-core>=4.6.0 in /usr/local/lib/python3.7/dist-packages (from jupyter-client<8->nbdev>=0.2.38->fastbook) (4.9.2)\n",
            "Requirement already satisfied: pyzmq>=13 in /usr/local/lib/python3.7/dist-packages (from jupyter-client<8->nbdev>=0.2.38->fastbook) (22.3.0)\n",
            "Requirement already satisfied: jupyterlab-pygments in /usr/local/lib/python3.7/dist-packages (from nbconvert>=6.1->nbdev>=0.2.38->fastbook) (0.2.1)\n",
            "Requirement already satisfied: defusedxml in /usr/local/lib/python3.7/dist-packages (from nbconvert>=6.1->nbdev>=0.2.38->fastbook) (0.7.1)\n",
            "Requirement already satisfied: nbclient>=0.5.0 in /usr/local/lib/python3.7/dist-packages (from nbconvert>=6.1->nbdev>=0.2.38->fastbook) (0.5.13)\n",
            "Requirement already satisfied: pandocfilters>=1.4.1 in /usr/local/lib/python3.7/dist-packages (from nbconvert>=6.1->nbdev>=0.2.38->fastbook) (1.5.0)\n",
            "Requirement already satisfied: tinycss2 in /usr/local/lib/python3.7/dist-packages (from nbconvert>=6.1->nbdev>=0.2.38->fastbook) (1.1.1)\n",
            "Requirement already satisfied: beautifulsoup4 in /usr/local/lib/python3.7/dist-packages (from nbconvert>=6.1->nbdev>=0.2.38->fastbook) (4.6.3)\n",
            "Requirement already satisfied: mistune<2,>=0.8.1 in /usr/local/lib/python3.7/dist-packages (from nbconvert>=6.1->nbdev>=0.2.38->fastbook) (0.8.4)\n",
            "Requirement already satisfied: pygments>=2.4.1 in /usr/local/lib/python3.7/dist-packages (from nbconvert>=6.1->nbdev>=0.2.38->fastbook) (2.6.1)\n",
            "Requirement already satisfied: bleach in /usr/local/lib/python3.7/dist-packages (from nbconvert>=6.1->nbdev>=0.2.38->fastbook) (5.0.0)\n",
            "Collecting Jinja2<3.1.0\n",
            "  Downloading Jinja2-3.0.3-py3-none-any.whl (133 kB)\n",
            "\u001b[K     |████████████████████████████████| 133 kB 56.0 MB/s \n",
            "\u001b[?25hRequirement already satisfied: entrypoints>=0.2.2 in /usr/local/lib/python3.7/dist-packages (from nbconvert>=6.1->nbdev>=0.2.38->fastbook) (0.4)\n",
            "Collecting jupyter-client<8\n",
            "  Downloading jupyter_client-7.2.2-py3-none-any.whl (130 kB)\n",
            "\u001b[K     |████████████████████████████████| 130 kB 63.4 MB/s \n",
            "\u001b[?25hRequirement already satisfied: nest-asyncio in /usr/local/lib/python3.7/dist-packages (from nbclient>=0.5.0->nbconvert>=6.1->nbdev>=0.2.38->fastbook) (1.5.5)\n",
            "Collecting tornado>=4.1\n",
            "  Downloading tornado-6.1-cp37-cp37m-manylinux2010_x86_64.whl (428 kB)\n",
            "\u001b[K     |████████████████████████████████| 428 kB 53.2 MB/s \n",
            "\u001b[?25hRequirement already satisfied: fastjsonschema in /usr/local/lib/python3.7/dist-packages (from nbformat>=4.4.0->nbdev>=0.2.38->fastbook) (2.15.3)\n",
            "Requirement already satisfied: jsonschema>=2.6 in /usr/local/lib/python3.7/dist-packages (from nbformat>=4.4.0->nbdev>=0.2.38->fastbook) (4.3.3)\n",
            "Requirement already satisfied: attrs>=17.4.0 in /usr/local/lib/python3.7/dist-packages (from jsonschema>=2.6->nbformat>=4.4.0->nbdev>=0.2.38->fastbook) (21.4.0)\n",
            "Requirement already satisfied: pyrsistent!=0.17.0,!=0.17.1,!=0.17.2,>=0.14.0 in /usr/local/lib/python3.7/dist-packages (from jsonschema>=2.6->nbformat>=4.4.0->nbdev>=0.2.38->fastbook) (0.18.1)\n",
            "Requirement already satisfied: importlib-metadata in /usr/local/lib/python3.7/dist-packages (from jsonschema>=2.6->nbformat>=4.4.0->nbdev>=0.2.38->fastbook) (4.11.3)\n",
            "Requirement already satisfied: importlib-resources>=1.4.0 in /usr/local/lib/python3.7/dist-packages (from jsonschema>=2.6->nbformat>=4.4.0->nbdev>=0.2.38->fastbook) (5.6.0)\n",
            "Requirement already satisfied: typing-extensions in /usr/local/lib/python3.7/dist-packages (from jsonschema>=2.6->nbformat>=4.4.0->nbdev>=0.2.38->fastbook) (4.1.1)\n",
            "Requirement already satisfied: zipp>=3.1.0 in /usr/local/lib/python3.7/dist-packages (from importlib-resources>=1.4.0->jsonschema>=2.6->nbformat>=4.4.0->nbdev>=0.2.38->fastbook) (3.8.0)\n",
            "Requirement already satisfied: six>=1.5 in /usr/local/lib/python3.7/dist-packages (from python-dateutil>=2.1->jupyter-client<8->nbdev>=0.2.38->fastbook) (1.15.0)\n",
            "Requirement already satisfied: blis<0.5.0,>=0.4.0 in /usr/local/lib/python3.7/dist-packages (from spacy<4->fastai>=2.5->fastbook) (0.4.1)\n",
            "Requirement already satisfied: thinc==7.4.0 in /usr/local/lib/python3.7/dist-packages (from spacy<4->fastai>=2.5->fastbook) (7.4.0)\n",
            "Requirement already satisfied: numpy>=1.15.0 in /usr/local/lib/python3.7/dist-packages (from spacy<4->fastai>=2.5->fastbook) (1.21.5)\n",
            "Requirement already satisfied: tqdm<5.0.0,>=4.38.0 in /usr/local/lib/python3.7/dist-packages (from spacy<4->fastai>=2.5->fastbook) (4.64.0)\n",
            "Requirement already satisfied: wasabi<1.1.0,>=0.4.0 in /usr/local/lib/python3.7/dist-packages (from spacy<4->fastai>=2.5->fastbook) (0.9.1)\n",
            "Requirement already satisfied: preshed<3.1.0,>=3.0.2 in /usr/local/lib/python3.7/dist-packages (from spacy<4->fastai>=2.5->fastbook) (3.0.6)\n",
            "Requirement already satisfied: murmurhash<1.1.0,>=0.28.0 in /usr/local/lib/python3.7/dist-packages (from spacy<4->fastai>=2.5->fastbook) (1.0.6)\n",
            "Requirement already satisfied: plac<1.2.0,>=0.9.6 in /usr/local/lib/python3.7/dist-packages (from spacy<4->fastai>=2.5->fastbook) (1.1.3)\n",
            "Requirement already satisfied: srsly<1.1.0,>=1.0.2 in /usr/local/lib/python3.7/dist-packages (from spacy<4->fastai>=2.5->fastbook) (1.0.5)\n",
            "Requirement already satisfied: setuptools in /usr/local/lib/python3.7/dist-packages (from spacy<4->fastai>=2.5->fastbook) (57.4.0)\n",
            "Requirement already satisfied: cymem<2.1.0,>=2.0.2 in /usr/local/lib/python3.7/dist-packages (from spacy<4->fastai>=2.5->fastbook) (2.0.6)\n",
            "Requirement already satisfied: catalogue<1.1.0,>=0.0.7 in /usr/local/lib/python3.7/dist-packages (from spacy<4->fastai>=2.5->fastbook) (1.0.0)\n",
            "Requirement already satisfied: certifi>=2017.4.17 in /usr/local/lib/python3.7/dist-packages (from requests->fastbook) (2021.10.8)\n",
            "Requirement already satisfied: idna<3,>=2.5 in /usr/local/lib/python3.7/dist-packages (from requests->fastbook) (2.10)\n",
            "Requirement already satisfied: chardet<4,>=3.0.2 in /usr/local/lib/python3.7/dist-packages (from requests->fastbook) (3.0.4)\n",
            "Requirement already satisfied: urllib3!=1.25.0,!=1.25.1,<1.26,>=1.21.1 in /usr/local/lib/python3.7/dist-packages (from requests->fastbook) (1.24.3)\n",
            "Requirement already satisfied: webencodings in /usr/local/lib/python3.7/dist-packages (from bleach->nbconvert>=6.1->nbdev>=0.2.38->fastbook) (0.5.1)\n",
            "Requirement already satisfied: ipython>=4.0.0 in /usr/local/lib/python3.7/dist-packages (from ipykernel->nbdev>=0.2.38->fastbook) (5.5.0)\n",
            "Requirement already satisfied: pexpect in /usr/local/lib/python3.7/dist-packages (from ipython>=4.0.0->ipykernel->nbdev>=0.2.38->fastbook) (4.8.0)\n",
            "Requirement already satisfied: pickleshare in /usr/local/lib/python3.7/dist-packages (from ipython>=4.0.0->ipykernel->nbdev>=0.2.38->fastbook) (0.7.5)\n",
            "Requirement already satisfied: simplegeneric>0.8 in /usr/local/lib/python3.7/dist-packages (from ipython>=4.0.0->ipykernel->nbdev>=0.2.38->fastbook) (0.8.1)\n",
            "Requirement already satisfied: prompt-toolkit<2.0.0,>=1.0.4 in /usr/local/lib/python3.7/dist-packages (from ipython>=4.0.0->ipykernel->nbdev>=0.2.38->fastbook) (1.0.18)\n",
            "Requirement already satisfied: decorator in /usr/local/lib/python3.7/dist-packages (from ipython>=4.0.0->ipykernel->nbdev>=0.2.38->fastbook) (4.4.2)\n",
            "Requirement already satisfied: wcwidth in /usr/local/lib/python3.7/dist-packages (from prompt-toolkit<2.0.0,>=1.0.4->ipython>=4.0.0->ipykernel->nbdev>=0.2.38->fastbook) (0.2.5)\n",
            "Requirement already satisfied: ipython-genutils~=0.2.0 in /usr/local/lib/python3.7/dist-packages (from ipywidgets->fastbook) (0.2.0)\n",
            "Requirement already satisfied: jupyterlab-widgets>=1.0.0 in /usr/local/lib/python3.7/dist-packages (from ipywidgets->fastbook) (1.1.0)\n",
            "Requirement already satisfied: widgetsnbextension~=3.6.0 in /usr/local/lib/python3.7/dist-packages (from ipywidgets->fastbook) (3.6.0)\n",
            "Requirement already satisfied: notebook>=4.4.1 in /usr/local/lib/python3.7/dist-packages (from widgetsnbextension~=3.6.0->ipywidgets->fastbook) (5.3.1)\n",
            "Requirement already satisfied: terminado>=0.8.1 in /usr/local/lib/python3.7/dist-packages (from notebook>=4.4.1->widgetsnbextension~=3.6.0->ipywidgets->fastbook) (0.13.3)\n",
            "Requirement already satisfied: Send2Trash in /usr/local/lib/python3.7/dist-packages (from notebook>=4.4.1->widgetsnbextension~=3.6.0->ipywidgets->fastbook) (1.8.0)\n",
            "Requirement already satisfied: ptyprocess in /usr/local/lib/python3.7/dist-packages (from terminado>=0.8.1->notebook>=4.4.1->widgetsnbextension~=3.6.0->ipywidgets->fastbook) (0.7.0)\n",
            "Requirement already satisfied: jupyter-console in /usr/local/lib/python3.7/dist-packages (from jupyter->nbdev>=0.2.38->fastbook) (5.2.0)\n",
            "Requirement already satisfied: qtconsole in /usr/local/lib/python3.7/dist-packages (from jupyter->nbdev>=0.2.38->fastbook) (5.3.0)\n",
            "Requirement already satisfied: pyparsing!=2.0.4,!=2.1.2,!=2.1.6,>=2.0.1 in /usr/local/lib/python3.7/dist-packages (from matplotlib->fastai>=2.5->fastbook) (3.0.8)\n",
            "Requirement already satisfied: kiwisolver>=1.0.1 in /usr/local/lib/python3.7/dist-packages (from matplotlib->fastai>=2.5->fastbook) (1.4.2)\n",
            "Requirement already satisfied: cycler>=0.10 in /usr/local/lib/python3.7/dist-packages (from matplotlib->fastai>=2.5->fastbook) (0.11.0)\n",
            "Requirement already satisfied: pytz>=2017.3 in /usr/local/lib/python3.7/dist-packages (from pandas->fastbook) (2018.9)\n",
            "Requirement already satisfied: qtpy>=2.0.1 in /usr/local/lib/python3.7/dist-packages (from qtconsole->jupyter->nbdev>=0.2.38->fastbook) (2.0.1)\n",
            "Requirement already satisfied: threadpoolctl>=2.0.0 in /usr/local/lib/python3.7/dist-packages (from scikit-learn->fastai>=2.5->fastbook) (3.1.0)\n",
            "Requirement already satisfied: joblib>=0.11 in /usr/local/lib/python3.7/dist-packages (from scikit-learn->fastai>=2.5->fastbook) (1.1.0)\n",
            "Installing collected packages: tornado, jupyter-client, Jinja2, nbconvert, ghapi, fastrelease, sentencepiece, nbdev, fastbook\n",
            "  Attempting uninstall: tornado\n",
            "    Found existing installation: tornado 5.1.1\n",
            "    Uninstalling tornado-5.1.1:\n",
            "      Successfully uninstalled tornado-5.1.1\n",
            "  Attempting uninstall: jupyter-client\n",
            "    Found existing installation: jupyter-client 5.3.5\n",
            "    Uninstalling jupyter-client-5.3.5:\n",
            "      Successfully uninstalled jupyter-client-5.3.5\n",
            "  Attempting uninstall: Jinja2\n",
            "    Found existing installation: Jinja2 2.11.3\n",
            "    Uninstalling Jinja2-2.11.3:\n",
            "      Successfully uninstalled Jinja2-2.11.3\n",
            "  Attempting uninstall: nbconvert\n",
            "    Found existing installation: nbconvert 5.6.1\n",
            "    Uninstalling nbconvert-5.6.1:\n",
            "      Successfully uninstalled nbconvert-5.6.1\n",
            "\u001b[31mERROR: pip's dependency resolver does not currently take into account all the packages that are installed. This behaviour is the source of the following dependency conflicts.\n",
            "google-colab 1.0.0 requires tornado~=5.1.0; python_version >= \"3.0\", but you have tornado 6.1 which is incompatible.\n",
            "flask 1.1.4 requires Jinja2<3.0,>=2.10.1, but you have jinja2 3.0.3 which is incompatible.\n",
            "datascience 0.10.6 requires folium==0.2.1, but you have folium 0.8.3 which is incompatible.\u001b[0m\n",
            "Successfully installed Jinja2-3.0.3 fastbook-0.0.18 fastrelease-0.1.15 ghapi-0.1.20 jupyter-client-7.2.2 nbconvert-6.5.0 nbdev-1.2.5 sentencepiece-0.1.96 tornado-6.1\n"
          ]
        },
        {
          "output_type": "display_data",
          "data": {
            "application/vnd.colab-display-data+json": {
              "pip_warning": {
                "packages": [
                  "jupyter_client",
                  "tornado"
                ]
              }
            }
          },
          "metadata": {}
        }
      ]
    },
    {
      "cell_type": "code",
      "execution_count": 1,
      "metadata": {
        "colab": {
          "base_uri": "https://localhost:8080/"
        },
        "id": "j5tKla1Q9dPZ",
        "outputId": "e3351936-5ea5-473b-ac7a-0dbc0916ec76"
      },
      "outputs": [
        {
          "output_type": "stream",
          "name": "stdout",
          "text": [
            "Collecting voila\n",
            "  Downloading voila-0.3.5-py3-none-any.whl (1.7 MB)\n",
            "\u001b[K     |████████████████████████████████| 1.7 MB 5.1 MB/s \n",
            "\u001b[?25hRequirement already satisfied: jupyter-client<8,>=6.1.3 in /usr/local/lib/python3.7/dist-packages (from voila) (7.2.2)\n",
            "Collecting jupyterlab-server<3,>=2.3.0\n",
            "  Downloading jupyterlab_server-2.12.0-py3-none-any.whl (53 kB)\n",
            "\u001b[K     |████████████████████████████████| 53 kB 1.8 MB/s \n",
            "\u001b[?25hCollecting jupyter-server<2.0.0,>=0.3.0\n",
            "  Downloading jupyter_server-1.16.0-py3-none-any.whl (343 kB)\n",
            "\u001b[K     |████████████████████████████████| 343 kB 61.5 MB/s \n",
            "\u001b[?25hRequirement already satisfied: nbconvert<7,>=6.4.5 in /usr/local/lib/python3.7/dist-packages (from voila) (6.5.0)\n",
            "Requirement already satisfied: traitlets<6,>=5.0.3 in /usr/local/lib/python3.7/dist-packages (from voila) (5.1.1)\n",
            "Requirement already satisfied: nbclient<0.6,>=0.4.0 in /usr/local/lib/python3.7/dist-packages (from voila) (0.5.13)\n",
            "Collecting websockets>=9.0\n",
            "  Downloading websockets-10.2-cp37-cp37m-manylinux_2_5_x86_64.manylinux1_x86_64.manylinux_2_12_x86_64.manylinux2010_x86_64.whl (111 kB)\n",
            "\u001b[K     |████████████████████████████████| 111 kB 49.7 MB/s \n",
            "\u001b[?25hRequirement already satisfied: jupyter-core>=4.9.2 in /usr/local/lib/python3.7/dist-packages (from jupyter-client<8,>=6.1.3->voila) (4.9.2)\n",
            "Requirement already satisfied: entrypoints in /usr/local/lib/python3.7/dist-packages (from jupyter-client<8,>=6.1.3->voila) (0.4)\n",
            "Requirement already satisfied: pyzmq>=22.3 in /usr/local/lib/python3.7/dist-packages (from jupyter-client<8,>=6.1.3->voila) (22.3.0)\n",
            "Requirement already satisfied: python-dateutil>=2.8.2 in /usr/local/lib/python3.7/dist-packages (from jupyter-client<8,>=6.1.3->voila) (2.8.2)\n",
            "Requirement already satisfied: nest-asyncio>=1.5.4 in /usr/local/lib/python3.7/dist-packages (from jupyter-client<8,>=6.1.3->voila) (1.5.5)\n",
            "Requirement already satisfied: tornado>=6.0 in /usr/local/lib/python3.7/dist-packages (from jupyter-client<8,>=6.1.3->voila) (6.1)\n",
            "Collecting websocket-client\n",
            "  Downloading websocket_client-1.3.2-py3-none-any.whl (54 kB)\n",
            "\u001b[K     |████████████████████████████████| 54 kB 2.1 MB/s \n",
            "\u001b[?25hRequirement already satisfied: Send2Trash in /usr/local/lib/python3.7/dist-packages (from jupyter-server<2.0.0,>=0.3.0->voila) (1.8.0)\n",
            "Requirement already satisfied: argon2-cffi in /usr/local/lib/python3.7/dist-packages (from jupyter-server<2.0.0,>=0.3.0->voila) (21.3.0)\n",
            "Requirement already satisfied: packaging in /usr/local/lib/python3.7/dist-packages (from jupyter-server<2.0.0,>=0.3.0->voila) (21.3)\n",
            "Requirement already satisfied: terminado>=0.8.3 in /usr/local/lib/python3.7/dist-packages (from jupyter-server<2.0.0,>=0.3.0->voila) (0.13.3)\n",
            "Collecting anyio>=3.1.0\n",
            "  Downloading anyio-3.5.0-py3-none-any.whl (79 kB)\n",
            "\u001b[K     |████████████████████████████████| 79 kB 5.9 MB/s \n",
            "\u001b[?25hRequirement already satisfied: nbformat>=5.2.0 in /usr/local/lib/python3.7/dist-packages (from jupyter-server<2.0.0,>=0.3.0->voila) (5.3.0)\n",
            "Requirement already satisfied: prometheus-client in /usr/local/lib/python3.7/dist-packages (from jupyter-server<2.0.0,>=0.3.0->voila) (0.14.1)\n",
            "Requirement already satisfied: jinja2 in /usr/local/lib/python3.7/dist-packages (from jupyter-server<2.0.0,>=0.3.0->voila) (3.0.3)\n",
            "Requirement already satisfied: typing-extensions in /usr/local/lib/python3.7/dist-packages (from anyio>=3.1.0->jupyter-server<2.0.0,>=0.3.0->voila) (4.1.1)\n",
            "Requirement already satisfied: idna>=2.8 in /usr/local/lib/python3.7/dist-packages (from anyio>=3.1.0->jupyter-server<2.0.0,>=0.3.0->voila) (2.10)\n",
            "Collecting sniffio>=1.1\n",
            "  Downloading sniffio-1.2.0-py3-none-any.whl (10 kB)\n",
            "Collecting json5\n",
            "  Downloading json5-0.9.6-py2.py3-none-any.whl (18 kB)\n",
            "Requirement already satisfied: babel in /usr/local/lib/python3.7/dist-packages (from jupyterlab-server<3,>=2.3.0->voila) (2.9.1)\n",
            "Requirement already satisfied: requests in /usr/local/lib/python3.7/dist-packages (from jupyterlab-server<3,>=2.3.0->voila) (2.23.0)\n",
            "Requirement already satisfied: jsonschema>=3.0.1 in /usr/local/lib/python3.7/dist-packages (from jupyterlab-server<3,>=2.3.0->voila) (4.3.3)\n",
            "Requirement already satisfied: MarkupSafe>=2.0 in /usr/local/lib/python3.7/dist-packages (from jinja2->jupyter-server<2.0.0,>=0.3.0->voila) (2.0.1)\n",
            "Requirement already satisfied: importlib-resources>=1.4.0 in /usr/local/lib/python3.7/dist-packages (from jsonschema>=3.0.1->jupyterlab-server<3,>=2.3.0->voila) (5.6.0)\n",
            "Requirement already satisfied: pyrsistent!=0.17.0,!=0.17.1,!=0.17.2,>=0.14.0 in /usr/local/lib/python3.7/dist-packages (from jsonschema>=3.0.1->jupyterlab-server<3,>=2.3.0->voila) (0.18.1)\n",
            "Requirement already satisfied: attrs>=17.4.0 in /usr/local/lib/python3.7/dist-packages (from jsonschema>=3.0.1->jupyterlab-server<3,>=2.3.0->voila) (21.4.0)\n",
            "Requirement already satisfied: importlib-metadata in /usr/local/lib/python3.7/dist-packages (from jsonschema>=3.0.1->jupyterlab-server<3,>=2.3.0->voila) (4.11.3)\n",
            "Requirement already satisfied: zipp>=3.1.0 in /usr/local/lib/python3.7/dist-packages (from importlib-resources>=1.4.0->jsonschema>=3.0.1->jupyterlab-server<3,>=2.3.0->voila) (3.8.0)\n",
            "Requirement already satisfied: tinycss2 in /usr/local/lib/python3.7/dist-packages (from nbconvert<7,>=6.4.5->voila) (1.1.1)\n",
            "Requirement already satisfied: mistune<2,>=0.8.1 in /usr/local/lib/python3.7/dist-packages (from nbconvert<7,>=6.4.5->voila) (0.8.4)\n",
            "Requirement already satisfied: bleach in /usr/local/lib/python3.7/dist-packages (from nbconvert<7,>=6.4.5->voila) (5.0.0)\n",
            "Requirement already satisfied: beautifulsoup4 in /usr/local/lib/python3.7/dist-packages (from nbconvert<7,>=6.4.5->voila) (4.6.3)\n",
            "Requirement already satisfied: jupyterlab-pygments in /usr/local/lib/python3.7/dist-packages (from nbconvert<7,>=6.4.5->voila) (0.2.1)\n",
            "Requirement already satisfied: pygments>=2.4.1 in /usr/local/lib/python3.7/dist-packages (from nbconvert<7,>=6.4.5->voila) (2.6.1)\n",
            "Requirement already satisfied: pandocfilters>=1.4.1 in /usr/local/lib/python3.7/dist-packages (from nbconvert<7,>=6.4.5->voila) (1.5.0)\n",
            "Requirement already satisfied: defusedxml in /usr/local/lib/python3.7/dist-packages (from nbconvert<7,>=6.4.5->voila) (0.7.1)\n",
            "Requirement already satisfied: fastjsonschema in /usr/local/lib/python3.7/dist-packages (from nbformat>=5.2.0->jupyter-server<2.0.0,>=0.3.0->voila) (2.15.3)\n",
            "Requirement already satisfied: six>=1.5 in /usr/local/lib/python3.7/dist-packages (from python-dateutil>=2.8.2->jupyter-client<8,>=6.1.3->voila) (1.15.0)\n",
            "Requirement already satisfied: ptyprocess in /usr/local/lib/python3.7/dist-packages (from terminado>=0.8.3->jupyter-server<2.0.0,>=0.3.0->voila) (0.7.0)\n",
            "Requirement already satisfied: argon2-cffi-bindings in /usr/local/lib/python3.7/dist-packages (from argon2-cffi->jupyter-server<2.0.0,>=0.3.0->voila) (21.2.0)\n",
            "Requirement already satisfied: cffi>=1.0.1 in /usr/local/lib/python3.7/dist-packages (from argon2-cffi-bindings->argon2-cffi->jupyter-server<2.0.0,>=0.3.0->voila) (1.15.0)\n",
            "Requirement already satisfied: pycparser in /usr/local/lib/python3.7/dist-packages (from cffi>=1.0.1->argon2-cffi-bindings->argon2-cffi->jupyter-server<2.0.0,>=0.3.0->voila) (2.21)\n",
            "Requirement already satisfied: pytz>=2015.7 in /usr/local/lib/python3.7/dist-packages (from babel->jupyterlab-server<3,>=2.3.0->voila) (2018.9)\n",
            "Requirement already satisfied: webencodings in /usr/local/lib/python3.7/dist-packages (from bleach->nbconvert<7,>=6.4.5->voila) (0.5.1)\n",
            "Requirement already satisfied: pyparsing!=3.0.5,>=2.0.2 in /usr/local/lib/python3.7/dist-packages (from packaging->jupyter-server<2.0.0,>=0.3.0->voila) (3.0.8)\n",
            "Requirement already satisfied: urllib3!=1.25.0,!=1.25.1,<1.26,>=1.21.1 in /usr/local/lib/python3.7/dist-packages (from requests->jupyterlab-server<3,>=2.3.0->voila) (1.24.3)\n",
            "Requirement already satisfied: chardet<4,>=3.0.2 in /usr/local/lib/python3.7/dist-packages (from requests->jupyterlab-server<3,>=2.3.0->voila) (3.0.4)\n",
            "Requirement already satisfied: certifi>=2017.4.17 in /usr/local/lib/python3.7/dist-packages (from requests->jupyterlab-server<3,>=2.3.0->voila) (2021.10.8)\n",
            "Installing collected packages: sniffio, websocket-client, anyio, jupyter-server, json5, websockets, jupyterlab-server, voila\n",
            "Successfully installed anyio-3.5.0 json5-0.9.6 jupyter-server-1.16.0 jupyterlab-server-2.12.0 sniffio-1.2.0 voila-0.3.5 websocket-client-1.3.2 websockets-10.2\n",
            "Enabling: voila\n",
            "- Writing config: /usr/etc/jupyter\n",
            "    - Validating...\n",
            "      voila  \u001b[32mOK\u001b[0m\n"
          ]
        }
      ],
      "source": [
        "!pip install voila\n",
        "!jupyter serverextension enable --sys-prefix voila"
      ]
    },
    {
      "cell_type": "code",
      "source": [
        "import fastbook\n",
        "fastbook.setup_book()"
      ],
      "metadata": {
        "colab": {
          "base_uri": "https://localhost:8080/"
        },
        "id": "DryfTyrwOBV9",
        "outputId": "edd7bd8e-5793-42ab-f2b7-2b808bcf1122"
      },
      "execution_count": 2,
      "outputs": [
        {
          "output_type": "stream",
          "name": "stdout",
          "text": [
            "Mounted at /content/gdrive\n"
          ]
        }
      ]
    },
    {
      "cell_type": "code",
      "source": [
        "from fastbook import *\n",
        "from fastai.vision.widgets import *"
      ],
      "metadata": {
        "id": "6hBfYpNxOCXV"
      },
      "execution_count": 3,
      "outputs": []
    },
    {
      "cell_type": "code",
      "source": [
        "path = Path()\n",
        "path.ls(file_exts='/content/gdrive/MyDrive/export.pkl')"
      ],
      "metadata": {
        "colab": {
          "base_uri": "https://localhost:8080/"
        },
        "id": "tMoTFdg29kvP",
        "outputId": "46fae411-2e00-4a40-a706-e0e7d2f2248f"
      },
      "execution_count": 4,
      "outputs": [
        {
          "output_type": "execute_result",
          "data": {
            "text/plain": [
              "(#0) []"
            ]
          },
          "metadata": {},
          "execution_count": 4
        }
      ]
    },
    {
      "cell_type": "code",
      "source": [
        "lbl_pred = widgets.Label()\n"
      ],
      "metadata": {
        "id": "3apN3CzXvzrj"
      },
      "execution_count": 16,
      "outputs": []
    },
    {
      "cell_type": "code",
      "source": [
        "out_pl = widgets.Output()\n"
      ],
      "metadata": {
        "id": "t3zj8pdRvN3A"
      },
      "execution_count": 17,
      "outputs": []
    },
    {
      "cell_type": "code",
      "source": [
        "btn_run = widgets.Button(description='Classify')\n",
        "btn_run"
      ],
      "metadata": {
        "id": "xrPnn4lXN62B",
        "colab": {
          "base_uri": "https://localhost:8080/",
          "height": 49,
          "referenced_widgets": [
            "ed215de57143484b8a8968fe745be095",
            "f6fd2072c5594252863972eb0a9f79cc",
            "66f4e65776994772b1624960ce32990c"
          ]
        },
        "outputId": "b82312f8-41f9-4cef-e34a-a440a5bd13d9"
      },
      "execution_count": 5,
      "outputs": [
        {
          "output_type": "display_data",
          "data": {
            "text/plain": [
              "Button(description='Classify', style=ButtonStyle())"
            ],
            "application/vnd.jupyter.widget-view+json": {
              "version_major": 2,
              "version_minor": 0,
              "model_id": "ed215de57143484b8a8968fe745be095"
            }
          },
          "metadata": {}
        }
      ]
    },
    {
      "cell_type": "code",
      "source": [
        "learn_inf = load_learner('gdrive/MyDrive/export.pkl')"
      ],
      "metadata": {
        "id": "3_mMrqNTwD4w"
      },
      "execution_count": 19,
      "outputs": []
    },
    {
      "cell_type": "code",
      "source": [
        "def on_click_classify(change):\n",
        "    img = PILImage.create(btn_upload.data[-1])\n",
        "    out_pl.clear_output()\n",
        "    with out_pl: display(img.to_thumb(128,128))\n",
        "    pred,pred_idx,probs = learn_inf.predict(img)\n",
        "    lbl_pred.value = f'Prediction: {pred}; Probability: {probs[pred_idx]:.04f}'"
      ],
      "metadata": {
        "id": "pHrlcccju8D2"
      },
      "execution_count": 6,
      "outputs": []
    },
    {
      "cell_type": "code",
      "source": [
        "btn_run.on_click(on_click_classify)"
      ],
      "metadata": {
        "id": "0q40UscNu-an"
      },
      "execution_count": 13,
      "outputs": []
    },
    {
      "cell_type": "code",
      "source": [
        "btn_upload = widgets.FileUpload()\n",
        "btn_upload"
      ],
      "metadata": {
        "colab": {
          "base_uri": "https://localhost:8080/",
          "height": 49,
          "referenced_widgets": [
            "12b7243e20d5476e823e9ba6f67875ad",
            "e87bd8c90aa448ba90d10c495ae0dd56",
            "fc6fc1b6ed3c47289a32601896ecad41"
          ]
        },
        "id": "NV_FEWflvAYI",
        "outputId": "b9ebe94b-f840-43dc-d522-b3d852c3da95"
      },
      "execution_count": 12,
      "outputs": [
        {
          "output_type": "display_data",
          "data": {
            "text/plain": [
              "FileUpload(value={}, description='Upload')"
            ],
            "application/vnd.jupyter.widget-view+json": {
              "version_major": 2,
              "version_minor": 0,
              "model_id": "12b7243e20d5476e823e9ba6f67875ad"
            }
          },
          "metadata": {}
        }
      ]
    },
    {
      "cell_type": "code",
      "source": [
        "#hide_output\n",
        "VBox([widgets.Label('Select your bear!'), \n",
        "      btn_upload, btn_run, out_pl, lbl_pred])"
      ],
      "metadata": {
        "colab": {
          "base_uri": "https://localhost:8080/",
          "height": 473,
          "referenced_widgets": [
            "5407a2085ac348a1b3124136ae415206",
            "d227d580e3e34341b9d7a191dc44d6e3",
            "12b7243e20d5476e823e9ba6f67875ad",
            "ed215de57143484b8a8968fe745be095",
            "981a42d35fc04b55921ac30844109856",
            "6a51c93ad6524a228168048934a12ada",
            "cdce195b90334249bc97b3f683d5272d",
            "b24d8d131fcd4184afc6c85dfa760880",
            "e0c21f6734f042029021e2fa14dc91d7",
            "e87bd8c90aa448ba90d10c495ae0dd56",
            "fc6fc1b6ed3c47289a32601896ecad41",
            "f6fd2072c5594252863972eb0a9f79cc",
            "66f4e65776994772b1624960ce32990c",
            "0dbcfe8508d14b7a851485f5d8b1fa03",
            "c36b4ee90bcc40a5a8bfddadde58f6a8",
            "c64d956c46d544ec933c2cfd748e5d14"
          ]
        },
        "id": "ReIFfB6zvCew",
        "outputId": "e8ab1e42-d757-4eb2-d094-a43077cdb313"
      },
      "execution_count": 18,
      "outputs": [
        {
          "output_type": "display_data",
          "data": {
            "text/plain": [
              "VBox(children=(Label(value='Select your bear!'), FileUpload(value={'bro.jpg': {'metadata': {'name': 'bro.jpg',…"
            ],
            "application/vnd.jupyter.widget-view+json": {
              "version_major": 2,
              "version_minor": 0,
              "model_id": "5407a2085ac348a1b3124136ae415206"
            }
          },
          "metadata": {}
        },
        {
          "output_type": "error",
          "ename": "NameError",
          "evalue": "ignored",
          "traceback": [
            "\u001b[0;31m---------------------------------------------------------------------------\u001b[0m",
            "\u001b[0;31mNameError\u001b[0m                                 Traceback (most recent call last)",
            "\u001b[0;32m<ipython-input-6-95cc268ba178>\u001b[0m in \u001b[0;36mon_click_classify\u001b[0;34m(change)\u001b[0m\n\u001b[1;32m      3\u001b[0m     \u001b[0mout_pl\u001b[0m\u001b[0;34m.\u001b[0m\u001b[0mclear_output\u001b[0m\u001b[0;34m(\u001b[0m\u001b[0;34m)\u001b[0m\u001b[0;34m\u001b[0m\u001b[0;34m\u001b[0m\u001b[0m\n\u001b[1;32m      4\u001b[0m     \u001b[0;32mwith\u001b[0m \u001b[0mout_pl\u001b[0m\u001b[0;34m:\u001b[0m \u001b[0mdisplay\u001b[0m\u001b[0;34m(\u001b[0m\u001b[0mimg\u001b[0m\u001b[0;34m.\u001b[0m\u001b[0mto_thumb\u001b[0m\u001b[0;34m(\u001b[0m\u001b[0;36m128\u001b[0m\u001b[0;34m,\u001b[0m\u001b[0;36m128\u001b[0m\u001b[0;34m)\u001b[0m\u001b[0;34m)\u001b[0m\u001b[0;34m\u001b[0m\u001b[0;34m\u001b[0m\u001b[0m\n\u001b[0;32m----> 5\u001b[0;31m     \u001b[0mpred\u001b[0m\u001b[0;34m,\u001b[0m\u001b[0mpred_idx\u001b[0m\u001b[0;34m,\u001b[0m\u001b[0mprobs\u001b[0m \u001b[0;34m=\u001b[0m \u001b[0mlearn_inf\u001b[0m\u001b[0;34m.\u001b[0m\u001b[0mpredict\u001b[0m\u001b[0;34m(\u001b[0m\u001b[0mimg\u001b[0m\u001b[0;34m)\u001b[0m\u001b[0;34m\u001b[0m\u001b[0;34m\u001b[0m\u001b[0m\n\u001b[0m\u001b[1;32m      6\u001b[0m     \u001b[0mlbl_pred\u001b[0m\u001b[0;34m.\u001b[0m\u001b[0mvalue\u001b[0m \u001b[0;34m=\u001b[0m \u001b[0;34mf'Prediction: {pred}; Probability: {probs[pred_idx]:.04f}'\u001b[0m\u001b[0;34m\u001b[0m\u001b[0;34m\u001b[0m\u001b[0m\n",
            "\u001b[0;31mNameError\u001b[0m: name 'learn_inf' is not defined"
          ]
        },
        {
          "output_type": "display_data",
          "data": {
            "text/plain": [
              "<IPython.core.display.HTML object>"
            ],
            "text/html": [
              "\n",
              "<style>\n",
              "    /* Turns off some styling */\n",
              "    progress {\n",
              "        /* gets rid of default border in Firefox and Opera. */\n",
              "        border: none;\n",
              "        /* Needs to be in here for Safari polyfill so background images work as expected. */\n",
              "        background-size: auto;\n",
              "    }\n",
              "    .progress-bar-interrupted, .progress-bar-interrupted::-webkit-progress-bar {\n",
              "        background: #F44336;\n",
              "    }\n",
              "</style>\n"
            ]
          },
          "metadata": {}
        },
        {
          "output_type": "display_data",
          "data": {
            "text/plain": [
              "<IPython.core.display.HTML object>"
            ],
            "text/html": [
              ""
            ]
          },
          "metadata": {}
        }
      ]
    },
    {
      "cell_type": "code",
      "source": [
        ""
      ],
      "metadata": {
        "id": "QVdhb-QJvFeC"
      },
      "execution_count": null,
      "outputs": []
    }
  ]
}